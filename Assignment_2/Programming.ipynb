{
 "cells": [
  {
   "cell_type": "markdown",
   "metadata": {
    "colab_type": "text",
    "id": "B265S51seOOW"
   },
   "source": [
    "# **Reinforcement Learning (COMP-767) Assignment 2**\n",
    "## Student 1:\n",
    "## Name: Bhavya Patwa\n",
    "### McGill ID: 260964036\n",
    "### email ID: bhavya.patwa@mail.mcgill.ca\n",
    "## Student 2:\n",
    "## Name: Yifan Bai\n",
    "### McGill ID: 260562421\n",
    "### email ID: yifan.bai@mail.mcgill.ca"
   ]
  },
  {
   "cell_type": "markdown",
   "metadata": {
    "colab_type": "text",
    "id": "uqgNsjF-piAl"
   },
   "source": [
    "### **Statement of Contribution**\n"
   ]
  },
  {
   "cell_type": "markdown",
   "metadata": {
    "colab_type": "text",
    "id": "VtwLlKdVx_0s"
   },
   "source": [
    "Both team members contributed equally to reviewing each other's answers and brainstorming. **TASK SPLIT DETAILS*** The formatting of this notebook was done together by both team members"
   ]
  },
  {
   "cell_type": "markdown",
   "metadata": {},
   "source": [
    "### Question 1"
   ]
  },
  {
   "cell_type": "code",
   "execution_count": 1,
   "metadata": {},
   "outputs": [],
   "source": [
    "# Code Here"
   ]
  },
  {
   "cell_type": "markdown",
   "metadata": {},
   "source": [
    "### Question 2 - Track B"
   ]
  },
  {
   "cell_type": "code",
   "execution_count": 3,
   "metadata": {},
   "outputs": [],
   "source": [
    "# Hyperparameter\n",
    "gamma = 0.9\n",
    "epsilon = 0.1\n",
    "replay_buffers = [50, 100, 250, 500]"
   ]
  },
  {
   "cell_type": "code",
   "execution_count": null,
   "metadata": {},
   "outputs": [],
   "source": []
  }
 ],
 "metadata": {
  "colab": {
   "collapsed_sections": [
    "uL_-utJxb4Cp",
    "zGT67Ero-ixB",
    "tj3JQdfmY9s5",
    "FZRJ0QU1TXlb",
    "VO4OLT0d-qOR",
    "PLW4x_1fSlf4",
    "dzYe3d3yVADo",
    "iltR2VjGSrkh",
    "CRUcbhuoYkY0"
   ],
   "name": "Reinforcement Learning Assignment - 1",
   "provenance": []
  },
  "kernelspec": {
   "display_name": "Python 3",
   "language": "python",
   "name": "python3"
  },
  "language_info": {
   "codemirror_mode": {
    "name": "ipython",
    "version": 3
   },
   "file_extension": ".py",
   "mimetype": "text/x-python",
   "name": "python",
   "nbconvert_exporter": "python",
   "pygments_lexer": "ipython3",
   "version": "3.7.4"
  }
 },
 "nbformat": 4,
 "nbformat_minor": 1
}
